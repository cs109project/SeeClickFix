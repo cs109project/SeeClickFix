{
 "metadata": {
  "name": "SeeClickFix_Regression"
 },
 "nbformat": 3,
 "nbformat_minor": 0,
 "worksheets": [
  {
   "cells": [
    {
     "cell_type": "heading",
     "level": 1,
     "metadata": {},
     "source": "<b> Regression Analysis <b> "
    },
    {
     "cell_type": "markdown",
     "metadata": {},
     "source": "ThIS iPython notebook contains regression analysis in an attempt to predict two different dependent variables with a range of independent variables drawn from the SeeClickFix data. \n\nThe focus of the analysis included trying to understand:\n\n*   **1. What variables (e.g. vote count, time, issue type) are most closely associated with a closed status?**  We used Probit Regression with the issue status as the dependent variable. The application would be for a user to understand what kind of issues are most likely to be closed (or acknowledged) and how user votes are associated with whether an issue will be closed.\n\n*   **2. What variables (i.e. issue type, location, time) are associated with a higher vote count?** We used linear regression with the issue vote count as the dependent variable. The application would be for a city official to understand how much users care about particular issue types (using voting counts as a proxy for what issues users care about) and about issues in specific areas. "
    },
    {
     "cell_type": "markdown",
     "metadata": {},
     "source": "<b> Take-away </b>: \n\nNeither of our regressions demonstrates a very strong explanatory power, least of all our OLS regression. Nonetheless, they are useful in demonstrating the type of analysis that could be predicted with a larger dataset.\n    "
    },
    {
     "cell_type": "code",
     "collapsed": false,
     "input": "# Preliminaries\n%matplotlib inline\nimport math\nimport pandas as pd\nimport numpy as np\nimport urllib\nimport json\nfrom collections import defaultdict\nfrom scipy import stats\nfrom sklearn import linear_model\nimport statsmodels.formula.api as sm\n\n#tell pandas to display wide tables as pretty HTML tables\npd.set_option('display.width', 500)\npd.set_option('display.max_columns', 100)",
     "language": "python",
     "metadata": {},
     "outputs": [],
     "prompt_number": 79
    },
    {
     "cell_type": "code",
     "collapsed": false,
     "input": "# Insheet dataset\nscf_df = pd.read_csv('file:///Users/bernardfaure/Google Drive/Project/Data/Processed/SeeClickFixData_Primary.csv')",
     "language": "python",
     "metadata": {},
     "outputs": [],
     "prompt_number": 24
    },
    {
     "cell_type": "code",
     "collapsed": false,
     "input": "# Create dummy variables for type\nfor elem in scf_df['type_large'].unique():\n    scf_df[str(elem)] = scf_df['type_large'] == elem\n\n# Create closed dummy\nscf_df['cl_dum'] = np.where(scf_df['status'] == 'Closed', 1, 0)    \n    \n# Create closed-acknowledged dummy\nscf_df['cl_ack_dum'] = np.where(scf_df['status'] != 'Open', 1, 0)\n\n# Create Atlanta-only dataframe\natlantadf = scf_df[scf_df['city']=='Atlanta']\n\n# Create Macon-only dataframe\nmacondf = scf_df[scf_df['city']=='Macon']\n\n# Create dummy variable for midtown Atlanta\nscf_df['midtown_dum'] = np.where(scf_df['neighborhood']=='Midtown', 1, 0)",
     "language": "python",
     "metadata": {},
     "outputs": [],
     "prompt_number": 45
    },
    {
     "cell_type": "heading",
     "level": 3,
     "metadata": {},
     "source": "<b> Probit regression:  </b>"
    },
    {
     "cell_type": "markdown",
     "metadata": {},
     "source": "We first ran our regression on all of Georgia, and then limited the dataset to only Georgia in order to introduce a variable relating to geography, namely a dummy for whether an issue is in midtown or elsewhere. Ideally, we would have introduced dummies for all neighborhoods, but we could not because the status variable in Atlanta does not have much variation (namely, there are only four closed issues!).\n\nWe tried two variants on the dependent variable: one regression looks at whether an issue is closed or not closed (i.e. acknowledge or open), and another looks at whether an issue is closed/acknowledged versus open. \n\nThe independent variables we include are:\n\n*    Dummy variables on issue type (some issues may be attended to more than others)\n\n*    Time elapsed since the issue was reported (since it may take some time for an issue to be fixed, although issues that cannot be closed would have seen much more time elapse)\n\n*    Vote count (because popular issues may be fixed more quickly)\n\n*    Midtown dummy (for Atlanta): we hypothesized that the existence of the fairly active Midtown Alliance (a coalition of citizens and businesses located in midtown Atlanta) might affected whether issues are acknowledge or closed\n    "
    },
    {
     "cell_type": "markdown",
     "metadata": {},
     "source": "<i> 1. For all of Georgia </i>"
    },
    {
     "cell_type": "code",
     "collapsed": false,
     "input": "# Dep_var = closed dummy / running on all types\n\nresult = sm.probit(formula=\"cl_dum ~ minutes_since_created  + vote_count + Traffic + Signage\t+ Dumping\t+ Garbage\t+ Cleanup\t+ Utilities + Lighting + Roadway\t+ Animal + Vegetation + Billing + Drainage  + Parking\t+ Delapidated\t+ Misbehavior\t+ Sidewalk + Illegal_sign\", data=scf_df).fit()\nprint result.summary()\n",
     "language": "python",
     "metadata": {},
     "outputs": [
      {
       "output_type": "stream",
       "stream": "stdout",
       "text": "Warning: Maximum number of iterations has been exceeded.\n         Current function value: 0.116525\n         Iterations: 35\n                          Probit Regression Results                           \n==============================================================================\nDep. Variable:                 cl_dum   No. Observations:                 5729\nModel:                         Probit   Df Residuals:                     5709\nMethod:                           MLE   Df Model:                           19\nDate:                Tue, 10 Dec 2013   Pseudo R-squ.:                  0.3300\nTime:                        13:37:47   Log-Likelihood:                -667.57\nconverged:                      False   LL-Null:                       -996.34\n                                        LLR p-value:                3.523e-127\n=========================================================================================\n                            coef    std err          z      P>|z|      [95.0% Conf. Int.]\n-----------------------------------------------------------------------------------------\nIntercept                -0.9605      0.161     -5.949      0.000        -1.277    -0.644\nTraffic[T.True]          -0.4533      0.224     -2.027      0.043        -0.892    -0.015\nSignage[T.True]           0.2699      0.197      1.368      0.171        -0.117     0.657\nDumping[T.True]           0.1613      0.180      0.896      0.370        -0.191     0.514\nGarbage[T.True]          -0.7574      0.179     -4.234      0.000        -1.108    -0.407\nCleanup[T.True]           0.0527      0.225      0.235      0.815        -0.388     0.493\nUtilities[T.True]        -7.1891    5.1e+06  -1.41e-06      1.000     -9.99e+06  9.99e+06\nLighting[T.True]         -0.2272      0.255     -0.890      0.373        -0.727     0.273\nRoadway[T.True]          -0.6483      0.184     -3.526      0.000        -1.009    -0.288\nAnimal[T.True]            0.8902      0.283      3.150      0.002         0.336     1.444\nVegetation[T.True]       -0.0117      0.174     -0.068      0.946        -0.352     0.329\nBilling[T.True]           2.2388      0.279      8.039      0.000         1.693     2.785\nDrainage[T.True]          0.1606      0.179      0.898      0.369        -0.190     0.511\nParking[T.True]           0.2225      0.367      0.606      0.544        -0.497     0.942\nDelapidated[T.True]      -1.0128      0.415     -2.440      0.015        -1.826    -0.199\nMisbehavior[T.True]      -0.4170      0.511     -0.816      0.414        -1.418     0.584\nSidewalk[T.True]         -7.0778   1.56e+06  -4.53e-06      1.000     -3.06e+06  3.06e+06\nIllegal_sign[T.True]     -0.2390      0.504     -0.474      0.636        -1.227     0.749\nminutes_since_created -2.233e-06   2.35e-07     -9.501      0.000     -2.69e-06 -1.77e-06\nvote_count               -0.0980      0.046     -2.123      0.034        -0.188    -0.008\n========================================================================================="
      },
      {
       "output_type": "stream",
       "stream": "stdout",
       "text": "\n"
      }
     ],
     "prompt_number": 47
    },
    {
     "cell_type": "markdown",
     "metadata": {},
     "source": "The first thing to note is that the pseudo R-squared (McFadden's) is fairly low, only about .33. Because these pseudo R-squareds are distinct from the regular R-squareds in OLS regressions, we are cautious about attributing too much meaning to this score. \n\nWith probit regression, the magnitude of the coefficients is not as interpretable as for OLS regression. However, the signs of the significant (at a 5% level) variables indicate the direction of the association between a variable and whether the issue is likely to ever be closed. \n\n<b> Interpretation of signs on the independent variables: </b>\n\n* <i> Time: </i> When larger amounts of time have elapsed since the issue was reported, the issue is more likely to remain open (and this is very statistically significant). This likely captures the fact that many issues remain open indefinitely. When outliers in terms of time elapsed are removed (not shown in this notebook), the effect remains strong and negative.\n\n* <i> Type: </i> Only issues related to \"Traffic,\" \"Garbage,\" \"Roadway,\" \"Animal,\" \"Billing,\" and \"Delapidated\" are significant, and all of them except for \"Animal\" and \"Billing\" are negative, i.e. <i> less </i> likely to be reported as closed. \n\n* <i> Vote count: </i> Surprisingly, the coefficient on vote count is negative (and significant), which suggests that an issue that elicits more votes is <i>less</i> likely to be closed. \n\nNext, we try to limit the issue types to just those that are the most represented in the dataset."
    },
    {
     "cell_type": "code",
     "collapsed": false,
     "input": "# Dep_var = closed dummy / running on only the most common issue types\n\nresult = sm.probit(formula=\"cl_dum ~ minutes_since_created  + vote_count + Roadway + Garbage + Traffic + Animal + Billing\", data=scf_df).fit()\nprint result.summary()\n",
     "language": "python",
     "metadata": {},
     "outputs": [
      {
       "output_type": "stream",
       "stream": "stdout",
       "text": "Optimization terminated successfully.\n         Current function value: 0.121335\n         Iterations 9\n                          Probit Regression Results                           \n==============================================================================\nDep. Variable:                 cl_dum   No. Observations:                 5729\nModel:                         Probit   Df Residuals:                     5721\nMethod:                           MLE   Df Model:                            7\nDate:                Tue, 10 Dec 2013   Pseudo R-squ.:                  0.3023\nTime:                        15:32:58   Log-Likelihood:                -695.13\nconverged:                       True   LL-Null:                       -996.34\n                                        LLR p-value:                7.338e-126\n=========================================================================================\n                            coef    std err          z      P>|z|      [95.0% Conf. Int.]\n-----------------------------------------------------------------------------------------\nIntercept                -0.9609      0.059    -16.396      0.000        -1.076    -0.846\nRoadway[T.True]          -0.6215      0.126     -4.916      0.000        -0.869    -0.374\nGarbage[T.True]          -0.7476      0.109     -6.885      0.000        -0.960    -0.535\nTraffic[T.True]          -0.4208      0.179     -2.347      0.019        -0.772    -0.069\nAnimal[T.True]            0.9028      0.244      3.698      0.000         0.424     1.381\nBilling[T.True]           2.2502      0.242      9.298      0.000         1.776     2.725\nminutes_since_created -2.323e-06   2.25e-07    -10.305      0.000     -2.76e-06 -1.88e-06\nvote_count               -0.1232      0.046     -2.657      0.008        -0.214    -0.032\n=========================================================================================\n"
      }
     ],
     "prompt_number": 98
    },
    {
     "cell_type": "markdown",
     "metadata": {},
     "source": "The fact that the pseudo R-squared is higher suggests that the explanatory power of this model may have decreased with the fewer number of issue types included. The significance and direction of the different explanatory variables does not change. "
    },
    {
     "cell_type": "markdown",
     "metadata": {},
     "source": "Next, we look at a slightly different dependent variable: whether a variable is closed or acknowledged (1) or open (0). "
    },
    {
     "cell_type": "code",
     "collapsed": false,
     "input": "# Dep var = \"closed/acknowledged vs. open\" / Running on all types\n\nresult = sm.probit(formula=\"cl_ack_dum ~ minutes_since_created + vote_count + Traffic + Signage\t+ Dumping\t+ Garbage\t+ Cleanup\t+ Utilities + Lighting + Roadway\t+ Animal + Vegetation + Billing + Drainage  + Parking\t+ Delapidated\t+ Misbehavior\t+ Sidewalk + Illegal_sign\", data=scf_df).fit()\nprint result.summary()",
     "language": "python",
     "metadata": {},
     "outputs": [
      {
       "output_type": "stream",
       "stream": "stdout",
       "text": "Optimization terminated successfully.\n         Current function value: 0.435780\n         Iterations 6\n                          Probit Regression Results                           \n==============================================================================\nDep. Variable:             cl_ack_dum   No. Observations:                 5729\nModel:                         Probit   Df Residuals:                     5709\nMethod:                           MLE   Df Model:                           19\nDate:                Tue, 10 Dec 2013   Pseudo R-squ.:                  0.3522\nTime:                        15:45:46   Log-Likelihood:                -2496.6\nconverged:                       True   LL-Null:                       -3854.2\n                                        LLR p-value:                     0.000\n=========================================================================================\n                            coef    std err          z      P>|z|      [95.0% Conf. Int.]\n-----------------------------------------------------------------------------------------\nIntercept                 0.2009      0.066      3.052      0.002         0.072     0.330\nTraffic[T.True]          -0.2488      0.090     -2.752      0.006        -0.426    -0.072\nSignage[T.True]          -0.5105      0.101     -5.047      0.000        -0.709    -0.312\nDumping[T.True]           0.1269      0.099      1.283      0.200        -0.067     0.321\nGarbage[T.True]           1.3320      0.089     14.923      0.000         1.157     1.507\nCleanup[T.True]           0.8621      0.159      5.417      0.000         0.550     1.174\nUtilities[T.True]         0.2449      0.254      0.964      0.335        -0.253     0.742\nLighting[T.True]         -0.1870      0.126     -1.487      0.137        -0.434     0.060\nRoadway[T.True]          -0.6000      0.072     -8.356      0.000        -0.741    -0.459\nAnimal[T.True]            0.1883      0.236      0.798      0.425        -0.274     0.651\nVegetation[T.True]        0.4173      0.089      4.691      0.000         0.243     0.592\nBilling[T.True]           1.0586      0.243      4.353      0.000         0.582     1.535\nDrainage[T.True]          0.2039      0.096      2.128      0.033         0.016     0.392\nParking[T.True]          -0.4572      0.272     -1.681      0.093        -0.990     0.076\nDelapidated[T.True]       0.6054      0.131      4.639      0.000         0.350     0.861\nMisbehavior[T.True]      -0.4196      0.251     -1.671      0.095        -0.912     0.073\nSidewalk[T.True]          0.5454      0.095      5.744      0.000         0.359     0.731\nIllegal_sign[T.True]     -0.3302      0.279     -1.184      0.236        -0.877     0.216\nminutes_since_created -1.288e-06   5.66e-08    -22.749      0.000      -1.4e-06 -1.18e-06\nvote_count                0.0378      0.007      5.290      0.000         0.024     0.052\n========================================================================================="
      },
      {
       "output_type": "stream",
       "stream": "stdout",
       "text": "\n"
      }
     ],
     "prompt_number": 101
    },
    {
     "cell_type": "markdown",
     "metadata": {},
     "source": "The effect of time elapsed remains the same as above: negative and significant. However, the effect of vote count is now positive (and significant): this indicates that being voted on is correlated with a higher probability of being acknowleged (or closed). \n\nAlso, more types are now significantly associated with being closed or acknowledged: \"Traffic,\" \"Signage,\" \"Roadway\" all are <i> less</i> likely to be acknowledged/closed, whereas \"Garbage\", \"Cleanup,\" \"Vegetation,\" \"Billing,\"  \"Drainage,\" and \"Delapidated\" issues are <i>more</i> likely to be acknowledged/closed. "
    },
    {
     "cell_type": "markdown",
     "metadata": {},
     "source": "Next, we turn to running these regressions for the City of Atlanta only, because (i) they are the city we are interested in analyzing data for, and (ii) because it will allow us to introduce at least one geographic variable."
    },
    {
     "cell_type": "markdown",
     "metadata": {},
     "source": "<i> 2. For Atlanta only </i>"
    },
    {
     "cell_type": "code",
     "collapsed": false,
     "input": "# Dep_var = closed dummy / running on all types\n\nresult = sm.probit(formula=\"cl_dum ~ minutes_since_created  + vote_count + Traffic + Signage\t+ Dumping\t+ Garbage\t+ Cleanup\t+ Utilities + Lighting + Roadway\t+ Animal + Vegetation + Billing + Drainage  + Parking\t+ Delapidated\t+ Misbehavior\t+ Sidewalk + Illegal_sign\", data=atlantadf).fit()\nprint result.summary()",
     "language": "python",
     "metadata": {},
     "outputs": [
      {
       "output_type": "stream",
       "stream": "stdout",
       "text": "Warning: Maximum number of iterations has been exceeded.\n         Current function value: 0.016578\n         Iterations: 35\n                          Probit Regression Results                           \n==============================================================================\nDep. Variable:                 cl_dum   No. Observations:                 1230\nModel:                         Probit   Df Residuals:                     1210\nMethod:                           MLE   Df Model:                           19\nDate:                Tue, 10 Dec 2013   Pseudo R-squ.:                  0.2422\nTime:                        15:47:58   Log-Likelihood:                -20.391\nconverged:                      False   LL-Null:                       -26.907\n                                        LLR p-value:                    0.8369\n=========================================================================================\n                            coef    std err          z      P>|z|      [95.0% Conf. Int.]\n-----------------------------------------------------------------------------------------\nIntercept                -7.9679   5.89e+06  -1.35e-06      1.000     -1.16e+07  1.16e+07\nTraffic[T.True]           6.1883   5.89e+06   1.05e-06      1.000     -1.16e+07  1.16e+07\nSignage[T.True]           0.1763   6.07e+06   2.91e-08      1.000     -1.19e+07  1.19e+07\nDumping[T.True]           0.0619   7.83e+06    7.9e-09      1.000     -1.54e+07  1.54e+07\nGarbage[T.True]          -0.3159   1.79e+07  -1.77e-08      1.000      -3.5e+07   3.5e+07\nCleanup[T.True]           0.9279   2.93e+07   3.17e-08      1.000     -5.74e+07  5.74e+07\nUtilities[T.True]        -0.0072   9.32e+06  -7.68e-10      1.000     -1.83e+07  1.83e+07\nLighting[T.True]         -0.2219   7.25e+06  -3.06e-08      1.000     -1.42e+07  1.42e+07\nRoadway[T.True]           6.1178   5.89e+06   1.04e-06      1.000     -1.16e+07  1.16e+07\nAnimal[T.True]           -0.2671   1.47e+07  -1.82e-08      1.000     -2.88e+07  2.88e+07\nVegetation[T.True]        6.1690   5.89e+06   1.05e-06      1.000     -1.16e+07  1.16e+07\nBilling[T.True]           0.3252   2.99e+07   1.09e-08      1.000     -5.87e+07  5.87e+07\nDrainage[T.True]         -0.1152   6.53e+06  -1.76e-08      1.000     -1.28e+07  1.28e+07\nParking[T.True]           0.5539   1.24e+07   4.49e-08      1.000     -2.42e+07  2.42e+07\nDelapidated[T.True]       0.3885   1.36e+07   2.85e-08      1.000     -2.67e+07  2.67e+07\nMisbehavior[T.True]      -0.0465   8.93e+06  -5.21e-09      1.000     -1.75e+07  1.75e+07\nSidewalk[T.True]         -0.1935   6.49e+06  -2.98e-08      1.000     -1.27e+07  1.27e+07\nIllegal_sign[T.True]      2.1857   2.99e+07    7.3e-08      1.000     -5.87e+07  5.87e+07\nminutes_since_created -1.556e-06   9.71e-07     -1.602      0.109     -3.46e-06  3.47e-07\nvote_count                0.0283      0.043      0.659      0.510        -0.056     0.112\n========================================================================================="
      },
      {
       "output_type": "stream",
       "stream": "stdout",
       "text": "\n"
      }
     ],
     "prompt_number": 102
    },
    {
     "cell_type": "markdown",
     "metadata": {},
     "source": "The pseudo R-Squared is lower than the regressions for all of Georgia. Time elapsed remains negative and significant, whereas vote count is positive but no longer significant. In addition, issue types no longer seem to matter in terms of whether an issue will be closed--most likely because so few issues in Atlanta have been closed on SeeClickFix. Accordingly, the more interesting level of analysis will be for Closed/Acknowledged, which together represent about 12% of the issues."
    },
    {
     "cell_type": "code",
     "collapsed": false,
     "input": "# Dep var = \"closed/acknowledged vs. open\" / Running on all types\n\nresult = sm.probit(formula=\"cl_ack_dum ~ minutes_since_created + vote_count + Traffic + Signage\t+ Dumping\t+ Garbage\t+ Cleanup\t+ Utilities + Lighting + Roadway\t+ Animal + Vegetation + Billing + Drainage  + Parking\t+ Delapidated\t+ Misbehavior\t+ Sidewalk + Illegal_sign\", data=atlantadf).fit()\nprint result.summary()",
     "language": "python",
     "metadata": {},
     "outputs": [
      {
       "output_type": "stream",
       "stream": "stdout",
       "text": "Warning: Maximum number of iterations has been exceeded.\n         Current function value: 0.267773\n         Iterations: 35\n                          Probit Regression Results                           \n==============================================================================\nDep. Variable:             cl_ack_dum   No. Observations:                 1230\nModel:                         Probit   Df Residuals:                     1210\nMethod:                           MLE   Df Model:                           19\nDate:                Tue, 10 Dec 2013   Pseudo R-squ.:                  0.2683\nTime:                        15:54:45   Log-Likelihood:                -329.36\nconverged:                      False   LL-Null:                       -450.12\n                                        LLR p-value:                 1.605e-40\n=========================================================================================\n                            coef    std err          z      P>|z|      [95.0% Conf. Int.]\n-----------------------------------------------------------------------------------------\nIntercept                -0.4589      0.513     -0.895      0.371        -1.464     0.546\nTraffic[T.True]          -0.6242      0.520     -1.201      0.230        -1.643     0.395\nSignage[T.True]          -2.1309      0.605     -3.522      0.000        -3.317    -0.945\nDumping[T.True]          -0.3716      0.590     -0.630      0.528        -1.527     0.784\nGarbage[T.True]          -7.9548   1.69e+07  -4.69e-07      1.000     -3.32e+07  3.32e+07\nCleanup[T.True]          -7.8290   2.94e+07  -2.67e-07      1.000     -5.75e+07  5.75e+07\nUtilities[T.True]         0.3203      0.616      0.520      0.603        -0.887     1.527\nLighting[T.True]          0.4201      0.542      0.775      0.438        -0.642     1.482\nRoadway[T.True]          -1.0224      0.519     -1.971      0.049        -2.039    -0.006\nAnimal[T.True]           -0.1330      0.855     -0.156      0.876        -1.809     1.543\nVegetation[T.True]        0.6701      0.530      1.265      0.206        -0.368     1.708\nBilling[T.True]          -7.8792   2.94e+07  -2.68e-07      1.000     -5.75e+07  5.75e+07\nDrainage[T.True]         -0.7687      0.539     -1.425      0.154        -1.826     0.289\nParking[T.True]          -7.7629   1.31e+07  -5.92e-07      1.000     -2.57e+07  2.57e+07\nDelapidated[T.True]      -7.8366   1.31e+07  -5.97e-07      1.000     -2.57e+07  2.57e+07\nMisbehavior[T.True]      -0.8626      0.719     -1.200      0.230        -2.272     0.547\nSidewalk[T.True]          0.0438      0.522      0.084      0.933        -0.979     1.067\nIllegal_sign[T.True]     -7.6698   2.94e+07  -2.61e-07      1.000     -5.75e+07  5.75e+07\nminutes_since_created -1.961e-07   9.91e-08     -1.978      0.048      -3.9e-07 -1.82e-09\nvote_count                0.0161      0.018      0.918      0.359        -0.018     0.050\n========================================================================================="
      },
      {
       "output_type": "stream",
       "stream": "stdout",
       "text": "\n"
      }
     ],
     "prompt_number": 103
    },
    {
     "cell_type": "markdown",
     "metadata": {},
     "source": "Now, the only issue types that seem to matter are \"Signage\" and \"Roadway\" (the two most common issue types submitted in all of Atlanta), which are both negatively associated with being acknowledged or closed. Vote count is also not significant here.\n\nFrom these results, one could assess the probability of a particular issue ever being closed/acknowledged, by multiplying each of the above coefficients by the variable level associated with that issue (typically 0 or 1, since most variables are dummies), adding them to each other and the constant, and plugging that number into the cumulative distribution function. This result could be useful for a user to assess the odds that their particular issue will be closed or acknowledged. "
    },
    {
     "cell_type": "code",
     "collapsed": false,
     "input": "# Dep var = \"closed/acknowledged vs. open\" / Running on most common types\n\nresult = sm.probit(formula=\"cl_ack_dum ~ minutes_since_created  + vote_count + Roadway  + Signage \", data=atlantadf).fit()\nprint result.summary()",
     "language": "python",
     "metadata": {},
     "outputs": [
      {
       "output_type": "stream",
       "stream": "stdout",
       "text": "Optimization terminated successfully.\n         Current function value: 0.297925\n         Iterations 9\n                          Probit Regression Results                           \n==============================================================================\nDep. Variable:             cl_ack_dum   No. Observations:                 1230\nModel:                         Probit   Df Residuals:                     1225\nMethod:                           MLE   Df Model:                            4\nDate:                Tue, 10 Dec 2013   Pseudo R-squ.:                  0.1859\nTime:                        15:58:24   Log-Likelihood:                -366.45\nconverged:                       True   LL-Null:                       -450.12\n                                        LLR p-value:                 3.880e-35\n=========================================================================================\n                            coef    std err          z      P>|z|      [95.0% Conf. Int.]\n-----------------------------------------------------------------------------------------\nIntercept                -0.4758      0.084     -5.691      0.000        -0.640    -0.312\nRoadway[T.True]          -0.8587      0.134     -6.423      0.000        -1.121    -0.597\nSignage[T.True]          -1.9128      0.341     -5.613      0.000        -2.581    -1.245\nminutes_since_created -4.279e-07   8.76e-08     -4.885      0.000        -6e-07 -2.56e-07\nvote_count                0.0242      0.016      1.487      0.137        -0.008     0.056\n=========================================================================================\n"
      }
     ],
     "prompt_number": 106
    },
    {
     "cell_type": "heading",
     "level": 3,
     "metadata": {},
     "source": "<b> OLS Regression: </b>"
    },
    {
     "cell_type": "markdown",
     "metadata": {},
     "source": "Next we turn to the linear regression, where we regress vote count on issue type, time elapsed, and (when applicable) geographic area."
    },
    {
     "cell_type": "markdown",
     "metadata": {},
     "source": "<i> 1. For all of Georgia </i>"
    },
    {
     "cell_type": "code",
     "collapsed": false,
     "input": "# dep var = vote count, on all type dummies and time\n\nscf_df['ln_min'] = scf_df['minutes_since_created'] # Testing on natural log of time elapsed\nscf_df['ln_min'] = scf_df['ln_min'].apply(np.log)\n\nresult = sm.ols(formula=\"vote_count ~  minutes_since_created + cl_dum + Traffic + Signage\t+ Dumping\t+ Garbage + Cleanup\t+ Utilities + Lighting + Roadway + Animal + Vegetation + Billing + Drainage + Parking\t+ Delapidated\t+ Misbehavior + Sidewalk + Illegal_sign\", data=scf_df).fit()\nprint result.summary()",
     "language": "python",
     "metadata": {},
     "outputs": [
      {
       "output_type": "stream",
       "stream": "stdout",
       "text": "                            OLS Regression Results                            \n==============================================================================\nDep. Variable:             vote_count   R-squared:                       0.035\nModel:                            OLS   Adj. R-squared:                  0.031\nMethod:                 Least Squares   F-statistic:                     10.75\nDate:                Tue, 10 Dec 2013   Prob (F-statistic):           2.22e-32\nTime:                        16:07:10   Log-Likelihood:                -13202.\nNo. Observations:                5729   AIC:                         2.644e+04\nDf Residuals:                    5709   BIC:                         2.658e+04\nDf Model:                          19                                         \n=========================================================================================\n                            coef    std err          t      P>|t|      [95.0% Conf. Int.]\n-----------------------------------------------------------------------------------------\nIntercept                 0.5574      0.106      5.246      0.000         0.349     0.766\nTraffic[T.True]           0.1922      0.138      1.389      0.165        -0.079     0.463\nSignage[T.True]          -0.6127      0.145     -4.240      0.000        -0.896    -0.329\nDumping[T.True]          -0.3571      0.177     -2.015      0.044        -0.705    -0.010\nGarbage[T.True]          -0.5543      0.133     -4.156      0.000        -0.816    -0.293\nCleanup[T.True]          -0.2142      0.264     -0.810      0.418        -0.733     0.304\nUtilities[T.True]        -0.2721      0.485     -0.561      0.575        -1.223     0.678\nLighting[T.True]         -0.1026      0.213     -0.483      0.629        -0.519     0.314\nRoadway[T.True]          -0.0844      0.110     -0.770      0.441        -0.299     0.130\nAnimal[T.True]           -0.2467      0.431     -0.572      0.567        -1.092     0.599\nVegetation[T.True]       -0.0509      0.157     -0.324      0.746        -0.359     0.258\nBilling[T.True]          -0.4863      0.385     -1.262      0.207        -1.242     0.269\nDrainage[T.True]         -0.1750      0.170     -1.032      0.302        -0.508     0.158\nParking[T.True]           0.1363      0.460      0.296      0.767        -0.766     1.039\nDelapidated[T.True]       0.1640      0.232      0.706      0.480        -0.291     0.619\nMisbehavior[T.True]       0.3881      0.399      0.973      0.331        -0.394     1.170\nSidewalk[T.True]          0.6273      0.169      3.721      0.000         0.297     0.958\nIllegal_sign[T.True]      0.2500      0.505      0.495      0.620        -0.740     1.240\nminutes_since_created  5.016e-07   6.79e-08      7.388      0.000      3.69e-07  6.35e-07\ncl_dum                   -0.1290      0.179     -0.721      0.471        -0.480     0.222\n==============================================================================\nOmnibus:                    11966.437   Durbin-Watson:                   1.895\nProb(Omnibus):                  0.000   Jarque-Bera (JB):         71237324.619\nSkew:                          17.590   Prob(JB):                         0.00\nKurtosis:                     548.152   Cond. No.                     1.33e+07\n==============================================================================\n\nWarnings:\n[1] The condition number is large, 1.33e+07. This might indicate that there are\nstrong multicollinearity or other numerical problems.\n"
      }
     ],
     "prompt_number": 107
    },
    {
     "cell_type": "markdown",
     "metadata": {},
     "source": "The R-squared for this regression is very low, which means the explanatory power of our model is poor--very little of the variance in results is explained by these variables. To explore whether this may be driven because we are not capturing geographic elements, we limit our analysis to Georgia and introduce more neighborhood dummies. Neighborhood dummies are introduced for any neighborhoods that represent at least 2% of the issue submissions."
    },
    {
     "cell_type": "markdown",
     "metadata": {},
     "source": "<i> 2. For Atlanta only </i>"
    },
    {
     "cell_type": "code",
     "collapsed": false,
     "input": "# Introduce more neighborhood dummies\n\natlantadf['Adamsville'] = np.where(scf_df['neighborhood']=='Adamsville', 1, 0)\natlantadf['GrantPark'] = np.where(scf_df['neighborhood']=='Grant Park', 1, 0)\natlantadf['MozleyPark'] = np.where(scf_df['neighborhood']=='Mozley Park', 1, 0)\natlantadf['OldFourthWard'] = np.where(scf_df['neighborhood']=='Old Fourth Ward', 1, 0)\natlantadf['WestEnd'] = np.where(scf_df['neighborhood']=='West End', 1, 0)",
     "language": "python",
     "metadata": {},
     "outputs": [],
     "prompt_number": 112
    },
    {
     "cell_type": "code",
     "collapsed": false,
     "input": "result = sm.ols(formula=\"vote_count ~  minutes_since_created + midtown_dum + Adamsville + GrantPark + MozleyPark + OldFourthWard + WestEnd + Traffic + Signage\t+ Dumping + Other + Garbage + Cleanup\t+ Utilities + Lighting + Roadway + Animal + Vegetation + Billing + Drainage + Parking\t+ Delapidated\t+ Misbehavior + Sidewalk + Illegal_sign\", data=atlantadf).fit()\nprint result.summary()",
     "language": "python",
     "metadata": {},
     "outputs": [
      {
       "output_type": "stream",
       "stream": "stdout",
       "text": "                            OLS Regression Results                            \n==============================================================================\nDep. Variable:             vote_count   R-squared:                       0.097\nModel:                            OLS   Adj. R-squared:                  0.078\nMethod:                 Least Squares   F-statistic:                     5.173\nDate:                Tue, 10 Dec 2013   Prob (F-statistic):           4.34e-15\nTime:                        16:46:14   Log-Likelihood:                -2844.2\nNo. Observations:                1230   AIC:                             5740.\nDf Residuals:                    1204   BIC:                             5873.\nDf Model:                          25                                         \n=========================================================================================\n                            coef    std err          t      P>|t|      [95.0% Conf. Int.]\n-----------------------------------------------------------------------------------------\nIntercept                 1.0349      1.432      0.723      0.470        -1.774     3.844\nTraffic[T.True]          -1.2660      1.440     -0.879      0.379        -4.091     1.559\nSignage[T.True]          -1.7330      1.436     -1.207      0.228        -4.550     1.084\nDumping[T.True]          -1.2685      1.511     -0.840      0.401        -4.232     1.695\nOther[T.True]             5.4367      1.890      2.877      0.004         1.729     9.144\nGarbage[T.True]          -1.1691      2.020     -0.579      0.563        -5.132     2.794\nCleanup[T.True]           0.0037      2.853      0.001      0.999        -5.594     5.601\nUtilities[T.True]        -1.4568      1.583     -0.921      0.357        -4.562     1.648\nLighting[T.True]         -0.4204      1.476     -0.285      0.776        -3.317     2.476\nRoadway[T.True]          -0.9049      1.434     -0.631      0.528        -3.719     1.909\nAnimal[T.True]           -2.0194      1.894     -1.066      0.287        -5.736     1.697\nVegetation[T.True]       -0.8931      1.459     -0.612      0.541        -3.756     1.969\nBilling[T.True]          -1.5626      2.853     -0.548      0.584        -7.160     4.035\nDrainage[T.True]         -1.1510      1.451     -0.793      0.428        -3.997     1.695\nParking[T.True]          -1.0920      1.822     -0.599      0.549        -4.666     2.482\nDelapidated[T.True]      -1.4931      1.808     -0.826      0.409        -5.040     2.054\nMisbehavior[T.True]      -0.4249      1.573     -0.270      0.787        -3.511     2.662\nSidewalk[T.True]         -0.6958      1.448     -0.481      0.631        -3.536     2.145\nIllegal_sign[T.True]     -0.8340      2.857     -0.292      0.770        -6.439     4.771\nminutes_since_created  1.032e-06   1.44e-07      7.145      0.000      7.48e-07  1.31e-06\nmidtown_dum               0.0708      0.245      0.289      0.773        -0.410     0.552\nAdamsville               -0.3687      0.341     -1.083      0.279        -1.037     0.299\nGrantPark                 1.3962      0.355      3.930      0.000         0.699     2.093\nMozleyPark               -0.2780      0.471     -0.591      0.555        -1.201     0.645\nOldFourthWard             0.2348      0.391      0.601      0.548        -0.532     1.001\nWestEnd                  -0.4234      0.439     -0.965      0.335        -1.284     0.437\n==============================================================================\nOmnibus:                     2456.219   Durbin-Watson:                   1.917\nProb(Omnibus):                  0.000   Jarque-Bera (JB):          6384311.990\nSkew:                          15.200   Prob(JB):                         0.00\nKurtosis:                     354.636   Cond. No.                     9.21e+07\n==============================================================================\n\nWarnings:\n[1] The condition number is large, 9.21e+07. This might indicate that there are\nstrong multicollinearity or other numerical problems.\n"
      }
     ],
     "prompt_number": 114
    },
    {
     "cell_type": "markdown",
     "metadata": {},
     "source": "Now the R-squared has doubled, but is still very low at .073. Only one of the neighborhoods--Grant Park--is significant. Most of the issue types are significant, and all (except \"Other\") are negative. Time is positive and significant, which makes sense--the more time goes on, the more votes a particular issue can be expected to get before it is closed (if ever)."
    },
    {
     "cell_type": "markdown",
     "metadata": {},
     "source": "Overall, the OLS regression does not seem to be very useful, at least with the current data we have. If the data had more votes, it could be better disaggregated by neighborhood. We suspect geography may be a confounding variable--it may affect both the independent and dependent variables. For instance the type of issues may depend on the neighborhood, as may the number of votes, if some types of residents are more active in reporting observed problems. "
    }
   ],
   "metadata": {}
  }
 ]
}